{
 "cells": [
  {
   "cell_type": "code",
   "execution_count": 6,
   "metadata": {},
   "outputs": [
    {
     "name": "stdout",
     "output_type": "stream",
     "text": [
      "{\n",
      "    \"tom\": {\n",
      "        \"name\": \"tom\",\n",
      "        \"address\": \"1 blue street,NY\",\n",
      "        \"phone\": 9130091352\n",
      "    },\n",
      "    \"bob\": {\n",
      "        \"name\": \"bob\",\n",
      "        \"address\": \"1 blue street,NY\",\n",
      "        \"phone\": 8888661008\n",
      "    }\n",
      "}\n",
      "{'name': 'bob', 'address': '1 blue street,NY', 'phone': 8888661008}\n",
      "8888661008\n",
      "{'name': 'tom', 'address': '1 blue street,NY', 'phone': 9130091352}\n",
      "{'name': 'bob', 'address': '1 blue street,NY', 'phone': 8888661008}\n"
     ]
    }
   ],
   "source": [
    "f=open(\"D://python//python_programs//book.txt\", \"r\")\n",
    "s=f.read()\n",
    "print(s) \n",
    "\n",
    "import json\n",
    "book=json.loads(s)\n",
    "print(book['bob'])\n",
    "print(book['bob']['phone'])\n",
    "\n",
    "for p in book:\n",
    "    print(book[p])"
   ]
  },
  {
   "cell_type": "code",
   "execution_count": null,
   "metadata": {},
   "outputs": [],
   "source": []
  }
 ],
 "metadata": {
  "kernelspec": {
   "display_name": "Python 3",
   "language": "python",
   "name": "python3"
  },
  "language_info": {
   "codemirror_mode": {
    "name": "ipython",
    "version": 3
   },
   "file_extension": ".py",
   "mimetype": "text/x-python",
   "name": "python",
   "nbconvert_exporter": "python",
   "pygments_lexer": "ipython3",
   "version": "3.12.6"
  }
 },
 "nbformat": 4,
 "nbformat_minor": 2
}

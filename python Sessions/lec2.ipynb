{
 "cells": [
  {
   "cell_type": "code",
   "execution_count": null,
   "id": "c0c533a1",
   "metadata": {},
   "outputs": [
    {
     "name": "stdout",
     "output_type": "stream",
     "text": [
      "15\n",
      "2\n",
      "5\n",
      "2.0\n"
     ]
    }
   ],
   "source": [
    "class Calculator:\n",
    "    def add(self,a,b):\n",
    "        print (a + b)\n",
    "    def sub(self,a,b):\n",
    "        print (a - b)\n",
    "    def multi(self,a,b):\n",
    "        print (a * b)\n",
    "    def div(self,a,b):\n",
    "        print (a / b)\n",
    "        \n",
    "\n",
    "cal=Calculator()\n",
    "cal.add(5,10)\n",
    "cal.sub(10,8)\n",
    "cal.sub(10,5)\n",
    "cal.div(10,5)"
   ]
  },
  {
   "cell_type": "code",
   "execution_count": 9,
   "id": "d8eb7bab",
   "metadata": {},
   "outputs": [
    {
     "name": "stdout",
     "output_type": "stream",
     "text": [
      "Chinmay\n",
      "AIML\n"
     ]
    }
   ],
   "source": [
    "class DKTE:\n",
    "    def __init__(self,name,Class):\n",
    "        self.name= name\n",
    "        self.Class=Class\n",
    "        \n",
    "\n",
    "d=DKTE(\"Chinmay\",\"AIML\")\n",
    "print(d.name)\n",
    "print(d.Class)\n",
    "\n",
    "# class DKTE:\n",
    "#     def __init__(self, name, Class):\n",
    "#         self.name = name\n",
    "#         self.Class = Class\n",
    "\n",
    "# d = DKTE(\"Chinmay\", \"AIML\")\n",
    "# print(d.name)    # Output: Chinmay\n",
    "# print(d.Class)   # Output: AIML\n"
   ]
  },
  {
   "cell_type": "code",
   "execution_count": 14,
   "id": "9778e6f0",
   "metadata": {},
   "outputs": [
    {
     "name": "stdout",
     "output_type": "stream",
     "text": [
      "I am Always Bhand with my wife\n",
      "I have 3 Lavde\n",
      "Teri benchod dega mai\n"
     ]
    }
   ],
   "source": [
    "class AmbaniReliance:\n",
    "    def mukesh(self):\n",
    "        print(\"I have 3 Lavde\")\n",
    "\n",
    "class AmbaniJio(AmbaniReliance):\n",
    "    def Anant(self):\n",
    "        print(\"I am Always Bhand with my wife\")\n",
    "\n",
    "class AmbaniSpace(AmbaniJio):\n",
    "    def anika(self):\n",
    "        print(\"Teri benchod dega mai\")\n",
    "x= AmbaniSpace()\n",
    "x.Anant()\n",
    "x.mukesh()\n",
    "x.anika()"
   ]
  },
  {
   "cell_type": "code",
   "execution_count": 15,
   "id": "af1389a5",
   "metadata": {},
   "outputs": [
    {
     "name": "stdout",
     "output_type": "stream",
     "text": [
      "I am Always Bhand with my wife\n",
      "I have 3 Lavde\n",
      "Teri benchod dega mai\n"
     ]
    }
   ],
   "source": [
    "class AmbaniReliance:\n",
    "    def mukesh(self):\n",
    "        print(\"I have 3 Lavde\")\n",
    "\n",
    "class AmbaniJio():\n",
    "    def Anant(self):\n",
    "        print(\"I am Always Bhand with my wife\")\n",
    "\n",
    "class AmbaniSpace(AmbaniJio,AmbaniReliance):\n",
    "    def anika(self):\n",
    "        print(\"Teri benchod dega mai\")\n",
    "x= AmbaniSpace()\n",
    "x.Anant()\n",
    "x.mukesh()\n",
    "x.anika()"
   ]
  },
  {
   "cell_type": "code",
   "execution_count": 19,
   "id": "d60c1d34",
   "metadata": {},
   "outputs": [
    {
     "name": "stdout",
     "output_type": "stream",
     "text": [
      "I have 3 Lavde\n",
      "Teri benchod dega mai\n",
      "I am Always Bhand with my wife\n",
      "I have 3 Lavde\n"
     ]
    }
   ],
   "source": [
    "class AmbaniReliance:\n",
    "    def mukesh(self):\n",
    "        print(\"I have 3 Lavde\")\n",
    "\n",
    "class AmbaniJio(AmbaniReliance):\n",
    "    def Anant(self):\n",
    "        print(\"I am Always Bhand with my wife\")\n",
    "\n",
    "class AmbaniSpace(AmbaniReliance):\n",
    "    def anika(self):\n",
    "        print(\"Teri benchod dega mai\")\n",
    "x= AmbaniSpace()\n",
    "x.mukesh()\n",
    "x.anika()\n",
    "y= AmbaniJio()\n",
    "y.Anant()\n",
    "y.mukesh()"
   ]
  }
 ],
 "metadata": {
  "kernelspec": {
   "display_name": "Python 3",
   "language": "python",
   "name": "python3"
  },
  "language_info": {
   "codemirror_mode": {
    "name": "ipython",
    "version": 3
   },
   "file_extension": ".py",
   "mimetype": "text/x-python",
   "name": "python",
   "nbconvert_exporter": "python",
   "pygments_lexer": "ipython3",
   "version": "3.12.6"
  }
 },
 "nbformat": 4,
 "nbformat_minor": 5
}

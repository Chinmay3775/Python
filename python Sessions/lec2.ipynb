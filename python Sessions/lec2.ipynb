{
 "cells": [
  {
   "cell_type": "code",
   "execution_count": 12,
   "id": "c0c533a1",
   "metadata": {},
   "outputs": [
    {
     "name": "stdout",
     "output_type": "stream",
     "text": [
      "15\n",
      "2\n",
      "5\n",
      "2.0\n"
     ]
    }
   ],
   "source": [
    "class Calculator:\n",
    "    def add(self,a,b):\n",
    "        print (a + b)\n",
    "    def sub(self,a,b):\n",
    "        print (a - b)\n",
    "    def multi(self,a,b):\n",
    "        print (a * b)\n",
    "    def div(self,a,b):\n",
    "        print (a / b)\n",
    "        \n",
    "\n",
    "cal=Calculator()\n",
    "cal.add(5,10)\n",
    "cal.sub(10,8)\n",
    "cal.sub(10,5)\n",
    "cal.div(10,5)"
   ]
  },
  {
   "cell_type": "code",
   "execution_count": null,
   "id": "d8eb7bab",
   "metadata": {},
   "outputs": [],
   "source": []
  }
 ],
 "metadata": {
  "kernelspec": {
   "display_name": "Python 3",
   "language": "python",
   "name": "python3"
  },
  "language_info": {
   "codemirror_mode": {
    "name": "ipython",
    "version": 3
   },
   "file_extension": ".py",
   "mimetype": "text/x-python",
   "name": "python",
   "nbconvert_exporter": "python",
   "pygments_lexer": "ipython3",
   "version": "3.12.6"
  }
 },
 "nbformat": 4,
 "nbformat_minor": 5
}
